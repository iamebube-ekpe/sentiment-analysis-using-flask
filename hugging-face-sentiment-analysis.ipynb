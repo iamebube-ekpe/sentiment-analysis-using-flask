{
 "cells": [
  {
   "cell_type": "code",
   "execution_count": 1,
   "metadata": {},
   "outputs": [],
   "source": [
    "from transformers import pipeline\n",
    "from transformers import AutoTokenizer, AutoModelForSequenceClassification"
   ]
  },
  {
   "cell_type": "code",
   "execution_count": 2,
   "metadata": {},
   "outputs": [],
   "source": [
    "model_name = \"distilbert-base-uncased-finetuned-sst-2-english\""
   ]
  },
  {
   "cell_type": "code",
   "execution_count": 3,
   "metadata": {},
   "outputs": [],
   "source": [
    "model = AutoModelForSequenceClassification.from_pretrained(model_name)\n",
    "tokenizer = AutoTokenizer.from_pretrained(model_name)"
   ]
  },
  {
   "cell_type": "code",
   "execution_count": 4,
   "metadata": {},
   "outputs": [],
   "source": [
    "classifer = pipeline(\"sentiment-analysis\", model=model, tokenizer=tokenizer)\n",
    "# results = classifer([\"We are happy to see u\", \"I hate eatting veggies\"])"
   ]
  },
  {
   "cell_type": "markdown",
   "metadata": {},
   "source": [
    "# Using HuggingFace For Sentiment Analysis..\n",
    "## Data taken from Twitter"
   ]
  },
  {
   "cell_type": "code",
   "execution_count": 5,
   "metadata": {},
   "outputs": [],
   "source": [
    "import tweepy as twt\n",
    "from textblob import TextBlob\n",
    "# from wordcloud import WordCloud\n",
    "import pandas as pd\n",
    "import re\n",
    "import matplotlib.pyplot as plt\n",
    "plt.style.use('fivethirtyeight')"
   ]
  },
  {
   "cell_type": "code",
   "execution_count": 6,
   "metadata": {},
   "outputs": [],
   "source": [
    "loginDetails = pd.read_csv('Login.csv')"
   ]
  },
  {
   "cell_type": "code",
   "execution_count": 7,
   "metadata": {},
   "outputs": [],
   "source": [
    "# The Twitter API credentials\n",
    "consumerKey = loginDetails['key'][0]\n",
    "consumerSecret = loginDetails['key'][1]\n",
    "accessToken = loginDetails['key'][2]\n",
    "accessTokenSecret = loginDetails['key'][3]\n"
   ]
  },
  {
   "cell_type": "code",
   "execution_count": 8,
   "metadata": {},
   "outputs": [],
   "source": [
    "# Auth Object\n",
    "authenticate = twt.OAuthHandler(consumerKey, consumerSecret)\n",
    "\n",
    "# Set access token and access token secret\n",
    "authenticate.set_access_token(accessToken, accessTokenSecret)\n",
    "\n",
    "# Create API object\n",
    "api = twt.API(authenticate, wait_on_rate_limit=True)"
   ]
  },
  {
   "cell_type": "code",
   "execution_count": 9,
   "metadata": {},
   "outputs": [
    {
     "name": "stderr",
     "output_type": "stream",
     "text": [
      "Unexpected parameter: id\n",
      "Unexpected parameter: lang\n"
     ]
    },
    {
     "name": "stdout",
     "output_type": "stream",
     "text": [
      "Showing tweets:\n",
      "\n",
      "1) RT @GrizzOnBally: ARE YOU KIDDING ME JA MORANT?! 🤯\n",
      "\n",
      "@JaMorant | #NBAAllStar https://t.co/naMJocd3Pj\n",
      "\n",
      "2) RT @bluewirepods: The Splash Bros are back 😈 https://t.co/NlLvUAqxoE\n",
      "\n",
      "3) RT @EmiratesFACup: 𝗕𝗔𝗖𝗞-𝗛𝗘𝗘𝗟 𝗚𝗢𝗔𝗟 🔥\n",
      "\n",
      "Just Firmino things @LFC 🇧🇷\n",
      "\n",
      "#EmiratesFACup https://t.co/f6u45MpUWd\n",
      "\n",
      "4) RT @SportsCenter: The rest of the league when Klay's returning to the 29-9 Warriors: https://t.co/6u9WOikNLs\n",
      "\n",
      "5) RT @KingJosiah54: Klay coming back to the Warriors https://t.co/RhWbNUWCXo\n",
      "\n"
     ]
    }
   ],
   "source": [
    "# Extract 100 tweets from Twitter user\n",
    "posts = api.user_timeline(id = '@owusu2kelvin', count=20, lang = 'en', tweet_mode = 'extended')\n",
    "\n",
    "# Show tweets\n",
    "print(\"Showing tweets:\" + '\\n')\n",
    "n = 1\n",
    "for tweet in posts[0:5]:\n",
    "    print(str(n) + ') '+tweet.full_text + \"\\n\")\n",
    "    n=n+1"
   ]
  },
  {
   "cell_type": "code",
   "execution_count": 10,
   "metadata": {},
   "outputs": [
    {
     "data": {
      "text/html": [
       "<div>\n",
       "<style scoped>\n",
       "    .dataframe tbody tr th:only-of-type {\n",
       "        vertical-align: middle;\n",
       "    }\n",
       "\n",
       "    .dataframe tbody tr th {\n",
       "        vertical-align: top;\n",
       "    }\n",
       "\n",
       "    .dataframe thead th {\n",
       "        text-align: right;\n",
       "    }\n",
       "</style>\n",
       "<table border=\"1\" class=\"dataframe\">\n",
       "  <thead>\n",
       "    <tr style=\"text-align: right;\">\n",
       "      <th></th>\n",
       "      <th>Tweets</th>\n",
       "    </tr>\n",
       "  </thead>\n",
       "  <tbody>\n",
       "    <tr>\n",
       "      <th>0</th>\n",
       "      <td>RT @GrizzOnBally: ARE YOU KIDDING ME JA MORANT...</td>\n",
       "    </tr>\n",
       "    <tr>\n",
       "      <th>1</th>\n",
       "      <td>RT @bluewirepods: The Splash Bros are back 😈 h...</td>\n",
       "    </tr>\n",
       "    <tr>\n",
       "      <th>2</th>\n",
       "      <td>RT @EmiratesFACup: 𝗕𝗔𝗖𝗞-𝗛𝗘𝗘𝗟 𝗚𝗢𝗔𝗟 🔥\\n\\nJust Fi...</td>\n",
       "    </tr>\n",
       "    <tr>\n",
       "      <th>3</th>\n",
       "      <td>RT @SportsCenter: The rest of the league when ...</td>\n",
       "    </tr>\n",
       "    <tr>\n",
       "      <th>4</th>\n",
       "      <td>RT @KingJosiah54: Klay coming back to the Warr...</td>\n",
       "    </tr>\n",
       "  </tbody>\n",
       "</table>\n",
       "</div>"
      ],
      "text/plain": [
       "                                              Tweets\n",
       "0  RT @GrizzOnBally: ARE YOU KIDDING ME JA MORANT...\n",
       "1  RT @bluewirepods: The Splash Bros are back 😈 h...\n",
       "2  RT @EmiratesFACup: 𝗕𝗔𝗖𝗞-𝗛𝗘𝗘𝗟 𝗚𝗢𝗔𝗟 🔥\\n\\nJust Fi...\n",
       "3  RT @SportsCenter: The rest of the league when ...\n",
       "4  RT @KingJosiah54: Klay coming back to the Warr..."
      ]
     },
     "execution_count": 10,
     "metadata": {},
     "output_type": "execute_result"
    }
   ],
   "source": [
    "# Create dataframe with column called tweets\n",
    "tweets_df = pd.DataFrame([tweet.full_text for tweet in posts], columns=['Tweets'])\n",
    "\n",
    "tweets_df.head()"
   ]
  },
  {
   "cell_type": "code",
   "execution_count": 11,
   "metadata": {},
   "outputs": [
    {
     "data": {
      "text/html": [
       "<div>\n",
       "<style scoped>\n",
       "    .dataframe tbody tr th:only-of-type {\n",
       "        vertical-align: middle;\n",
       "    }\n",
       "\n",
       "    .dataframe tbody tr th {\n",
       "        vertical-align: top;\n",
       "    }\n",
       "\n",
       "    .dataframe thead th {\n",
       "        text-align: right;\n",
       "    }\n",
       "</style>\n",
       "<table border=\"1\" class=\"dataframe\">\n",
       "  <thead>\n",
       "    <tr style=\"text-align: right;\">\n",
       "      <th></th>\n",
       "      <th>Tweets</th>\n",
       "    </tr>\n",
       "  </thead>\n",
       "  <tbody>\n",
       "    <tr>\n",
       "      <th>0</th>\n",
       "      <td>ARE YOU KIDDING ME JA MORANT?! 🤯 | NBAAllStar</td>\n",
       "    </tr>\n",
       "    <tr>\n",
       "      <th>1</th>\n",
       "      <td>The Splash Bros are back 😈</td>\n",
       "    </tr>\n",
       "    <tr>\n",
       "      <th>2</th>\n",
       "      <td>𝗕𝗔𝗖𝗞-𝗛𝗘𝗘𝗟 𝗚𝗢𝗔𝗟 🔥Just Firmino things  🇧🇷Emirat...</td>\n",
       "    </tr>\n",
       "    <tr>\n",
       "      <th>3</th>\n",
       "      <td>The rest of the league when Klay's returning ...</td>\n",
       "    </tr>\n",
       "    <tr>\n",
       "      <th>4</th>\n",
       "      <td>Klay coming back to the Warriors</td>\n",
       "    </tr>\n",
       "  </tbody>\n",
       "</table>\n",
       "</div>"
      ],
      "text/plain": [
       "                                              Tweets\n",
       "0     ARE YOU KIDDING ME JA MORANT?! 🤯 | NBAAllStar \n",
       "1                        The Splash Bros are back 😈 \n",
       "2   𝗕𝗔𝗖𝗞-𝗛𝗘𝗘𝗟 𝗚𝗢𝗔𝗟 🔥Just Firmino things  🇧🇷Emirat...\n",
       "3   The rest of the league when Klay's returning ...\n",
       "4                  Klay coming back to the Warriors "
      ]
     },
     "execution_count": 11,
     "metadata": {},
     "output_type": "execute_result"
    }
   ],
   "source": [
    "# Cleaning the text using a function\n",
    "def cleanTxt(text):\n",
    "    text =re.sub(r'@[A-Za-z0-9_]+', '', text) # Removing @mentions\n",
    "    text = re.sub(r'#', '', text) # Removing Hashtags\n",
    "    text = re.sub(r'RT[\\s]+:', '', text) # Removing RT\n",
    "    text = re.sub(r'https?:\\/\\/\\S+', '', text) # Removing hyperlinks\n",
    "    text = text.replace(\"\\n\",\"\")\n",
    "    \n",
    "    return text\n",
    "\n",
    "tweets_df['Tweets'] = tweets_df['Tweets'].apply(cleanTxt) # Cleaning the texts\n",
    "\n",
    "tweets_df.head() # Showing the cleaned texts"
   ]
  },
  {
   "cell_type": "code",
   "execution_count": 12,
   "metadata": {},
   "outputs": [
    {
     "data": {
      "text/plain": [
       "[' ARE YOU KIDDING ME JA MORANT?! 🤯 | NBAAllStar ',\n",
       " ' The Splash Bros are back 😈 ',\n",
       " ' 𝗕𝗔𝗖𝗞-𝗛𝗘𝗘𝗟 𝗚𝗢𝗔𝗟 🔥Just Firmino things  🇧🇷EmiratesFACup ',\n",
       " \" The rest of the league when Klay's returning to the 29-9 Warriors: \",\n",
       " ' Klay coming back to the Warriors ',\n",
       " ' “I’m back.” -  Klay941 ',\n",
       " ' HIGH SCHOOLER Brandon Miller must’ve been studying Vince Carter vs. France dunks before this slam. 🤯(🎥:IG/black_mosez, H/T…',\n",
       " ' Storyline is a bit cliché but the fight scenes are dope!!!!',\n",
       " ' Moi!!!!',\n",
       " ' Who else can relate?🤦🏾\\u200d♂️🤣😀PulseViral ',\n",
       " ' There’s optimism Golden Warriors guard Klay Thompson will make his return vs. the Cleveland Cavaliers on Sunday, sources tell…',\n",
       " \" If you need us, we'll be watching this on repeat all day 🤩(via )\",\n",
       " ' ELECTRIC. Andre Roberts 101-yard kick return TD BoltUp📺: DENvsLAC on CBS📱: NFL app ',\n",
       " ' AB straight up just left 😳(via )',\n",
       " ' DEROZAN. GAME. AGAIN. 😱(via )',\n",
       " ' ▫️ Lukaku unhappy ▫️ Eight points behind City ▫️ Injuries in defense piling up Chelsea fans: ',\n",
       " ' 3️⃣0️⃣0️⃣0️⃣ CAREER THREES FOR STEPH 🔥 ',\n",
       " ' Unc forgot it was a game 🤣(via cfndann/TT) ',\n",
       " ' BRAXTON BERRIOS TAKES IT 100 YARDS! TakeFlight📺: JAXvsNYJ on CBS📱: NFL app ',\n",
       " ' Jingle hoops, jingle hoops… Santa Perk came to town  ']"
      ]
     },
     "execution_count": 12,
     "metadata": {},
     "output_type": "execute_result"
    }
   ],
   "source": [
    "tweet_results = []\n",
    "for tweet in tweets_df['Tweets']:\n",
    "    tweet_results.append(str(tweet))\n",
    "\n",
    "tweet_results"
   ]
  },
  {
   "cell_type": "code",
   "execution_count": 13,
   "metadata": {},
   "outputs": [],
   "source": [
    "tweet_results = classifer(tweet_results)"
   ]
  },
  {
   "cell_type": "code",
   "execution_count": 15,
   "metadata": {},
   "outputs": [
    {
     "name": "stdout",
     "output_type": "stream",
     "text": [
      "[{'label': 'NEGATIVE', 'score': 0.9856570959091187}, {'label': 'POSITIVE', 'score': 0.893064558506012}, {'label': 'NEGATIVE', 'score': 0.6658878922462463}, {'label': 'POSITIVE', 'score': 0.6438055038452148}, {'label': 'POSITIVE', 'score': 0.9939017295837402}, {'label': 'POSITIVE', 'score': 0.8953263759613037}, {'label': 'NEGATIVE', 'score': 0.9948674440383911}, {'label': 'NEGATIVE', 'score': 0.9932460188865662}, {'label': 'POSITIVE', 'score': 0.9900117516517639}, {'label': 'NEGATIVE', 'score': 0.9960796236991882}, {'label': 'POSITIVE', 'score': 0.9989639520645142}, {'label': 'NEGATIVE', 'score': 0.9470311999320984}, {'label': 'NEGATIVE', 'score': 0.9524260759353638}, {'label': 'NEGATIVE', 'score': 0.990864098072052}, {'label': 'NEGATIVE', 'score': 0.9907160997390747}, {'label': 'NEGATIVE', 'score': 0.8513162136077881}, {'label': 'POSITIVE', 'score': 0.9937077760696411}, {'label': 'NEGATIVE', 'score': 0.9982025623321533}, {'label': 'POSITIVE', 'score': 0.9887125492095947}, {'label': 'POSITIVE', 'score': 0.9972629547119141}]\n",
      "The total number of Negative Sentiments are 11.\n",
      "The total number of Positive Sentiments are 9.\n"
     ]
    }
   ],
   "source": [
    "positive = 0\n",
    "negative = 0\n",
    "# print(tweet_results)\n",
    "for result in tweet_results:\n",
    "    if result['label'] == 'POSITIVE':\n",
    "        positive += 1\n",
    "    else:\n",
    "        negative += 1\n",
    "\n",
    "print(f\"The total number of Negative Sentiments are {negative}.\\nThe total number of Positive Sentiments are {positive}.\")"
   ]
  }
 ],
 "metadata": {
  "interpreter": {
   "hash": "916dbcbb3f70747c44a77c7bcd40155683ae19c65e1c03b4aa3499c5328201f1"
  },
  "kernelspec": {
   "display_name": "Python 3.9.7 64-bit",
   "name": "python3"
  },
  "language_info": {
   "codemirror_mode": {
    "name": "ipython",
    "version": 3
   },
   "file_extension": ".py",
   "mimetype": "text/x-python",
   "name": "python",
   "nbconvert_exporter": "python",
   "pygments_lexer": "ipython3",
   "version": "3.9.6"
  },
  "orig_nbformat": 4
 },
 "nbformat": 4,
 "nbformat_minor": 2
}
